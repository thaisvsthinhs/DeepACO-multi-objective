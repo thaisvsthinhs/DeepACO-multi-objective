{
 "cells": [
  {
   "cell_type": "code",
   "execution_count": 1,
   "metadata": {},
   "outputs": [],
   "source": [
    "import time\n",
    "import torch\n",
    "from torch.distributions import Categorical, kl\n",
    "from d2l.torch import Animator\n",
    "\n",
    "from net import Net\n",
    "from aco import ACO\n",
    "from utils import gen_pyg_data, load_test_dataset\n",
    "\n",
    "torch.manual_seed(12345)\n",
    "WD, WT = 0.7, 0.3\n",
    "EPS = 1e-10\n",
    "device = 'cuda:0' if torch.cuda.is_available() else 'cpu'"
   ]
  },
  {
   "cell_type": "code",
   "execution_count": 2,
   "metadata": {},
   "outputs": [
    {
     "name": "stdout",
     "output_type": "stream",
     "text": [
      "cuda:0\n"
     ]
    }
   ],
   "source": [
    "print(device)"
   ]
  },
  {
   "cell_type": "code",
   "execution_count": 3,
   "metadata": {},
   "outputs": [],
   "source": [
    "@torch.no_grad()\n",
    "def infer_instance(model, pyg_data, distances, time_matrix, n_ants,\n",
    "                   t_aco_diff, k_sparse=None):\n",
    "    if model:\n",
    "        model.eval()\n",
    "        heu_vec = model(pyg_data)\n",
    "        heu_mat = model.reshape(pyg_data, heu_vec) + EPS\n",
    "        aco = ACO(\n",
    "            distances   = distances,\n",
    "            travel_time = time_matrix,\n",
    "            w_d         = WD,\n",
    "            w_t         = WT,\n",
    "            n_ants      = n_ants,\n",
    "            heuristic   = heu_mat,\n",
    "            device      = device\n",
    "        )\n",
    "    else:\n",
    "        aco = ACO(\n",
    "            distances   = distances,\n",
    "            travel_time = time_matrix,\n",
    "            w_d         = WD,\n",
    "            w_t         = WT,\n",
    "            n_ants      = n_ants,\n",
    "            device      = device\n",
    "        )\n",
    "        if k_sparse:\n",
    "            aco.sparsify(k_sparse)\n",
    "\n",
    "    results = torch.zeros(len(t_aco_diff), device=device)\n",
    "    for i, t in enumerate(t_aco_diff):\n",
    "        results[i] = aco.run(t)\n",
    "    return results\n",
    "        \n",
    "    \n",
    "@torch.no_grad()\n",
    "def test(dataset, model, n_ants, t_aco, k_sparse=None):\n",
    "    _t_aco   = [0] + t_aco\n",
    "    t_diffs  = [_t_aco[i+1]-_t_aco[i] for i in range(len(_t_aco)-1)]\n",
    "    sum_res  = torch.zeros(len(t_diffs), device=device)\n",
    "    start    = time.time()\n",
    "    for pyg_data, distances, time_matrix in dataset:\n",
    "        sum_res += infer_instance(model, pyg_data,\n",
    "                                   distances, time_matrix,\n",
    "                                   n_ants, t_diffs, k_sparse)\n",
    "    return sum_res / len(dataset), time.time()-start"
   ]
  },
  {
   "attachments": {},
   "cell_type": "markdown",
   "metadata": {},
   "source": [
    "### Test on TSP20"
   ]
  },
  {
   "attachments": {},
   "cell_type": "markdown",
   "metadata": {},
   "source": [
    "DeepACO"
   ]
  },
  {
   "cell_type": "code",
   "execution_count": 4,
   "metadata": {},
   "outputs": [
    {
     "name": "stdout",
     "output_type": "stream",
     "text": [
      "total duration:  3037.9496920108795\n",
      "T=1, average cost is 3.365255355834961.\n",
      "T=10, average cost is 3.2843754291534424.\n",
      "T=20, average cost is 3.278249740600586.\n",
      "T=30, average cost is 3.275728225708008.\n",
      "T=40, average cost is 3.2743453979492188.\n",
      "T=50, average cost is 3.273648977279663.\n",
      "T=100, average cost is 3.2715003490448.\n"
     ]
    }
   ],
   "source": [
    "n_ants = 20\n",
    "n_node = 20\n",
    "k_sparse = 10\n",
    "t_aco = [1, 10, 20, 30, 40, 50, 100]\n",
    "test_list = load_test_dataset(n_node, k_sparse, device)\n",
    "net_tsp = Net().to(device)\n",
    "net_tsp.load_state_dict(torch.load(f'../pretrained/tsp/tsp{n_node}.pt', map_location=device))\n",
    "avg_aco_best, duration = test(test_list, net_tsp, n_ants, t_aco, k_sparse)\n",
    "print('total duration: ', duration)\n",
    "for i, t in enumerate(t_aco):\n",
    "    print(\"T={}, average cost is {}.\".format(t, avg_aco_best[i]))    "
   ]
  },
  {
   "attachments": {},
   "cell_type": "markdown",
   "metadata": {},
   "source": [
    "ACO"
   ]
  },
  {
   "cell_type": "code",
   "execution_count": 5,
   "metadata": {},
   "outputs": [
    {
     "name": "stdout",
     "output_type": "stream",
     "text": [
      "total duration:  2987.522205352783\n",
      "T=1, average cost is 4.481498718261719.\n",
      "T=10, average cost is 3.610553503036499.\n",
      "T=20, average cost is 3.4587457180023193.\n",
      "T=30, average cost is 3.392754077911377.\n",
      "T=40, average cost is 3.3546273708343506.\n",
      "T=50, average cost is 3.3335437774658203.\n",
      "T=100, average cost is 3.2924916744232178.\n"
     ]
    }
   ],
   "source": [
    "n_ants = 20\n",
    "n_node = 20\n",
    "k_sparse = 10\n",
    "t_aco = [1, 10, 20, 30, 40, 50, 100]\n",
    "test_list = load_test_dataset(n_node, k_sparse, device)\n",
    "avg_aco_best, duration = test(test_list, None, n_ants, t_aco, k_sparse)\n",
    "print('total duration: ', duration)\n",
    "for i, t in enumerate(t_aco):\n",
    "    print(\"T={}, average cost is {}.\".format(t, avg_aco_best[i]))    "
   ]
  }
 ],
 "metadata": {
  "kernelspec": {
   "display_name": "Python 3",
   "language": "python",
   "name": "python3"
  },
  "language_info": {
   "codemirror_mode": {
    "name": "ipython",
    "version": 3
   },
   "file_extension": ".py",
   "mimetype": "text/x-python",
   "name": "python",
   "nbconvert_exporter": "python",
   "pygments_lexer": "ipython3",
   "version": "3.10.11"
  },
  "orig_nbformat": 4
 },
 "nbformat": 4,
 "nbformat_minor": 2
}
